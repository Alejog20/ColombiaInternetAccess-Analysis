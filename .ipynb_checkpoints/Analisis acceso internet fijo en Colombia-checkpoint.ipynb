{
 "cells": [
  {
   "cell_type": "code",
   "execution_count": null,
   "id": "5a107db8-5a7f-48e2-a3e5-ac76d80c99dc",
   "metadata": {},
   "outputs": [],
   "source": [
    "from sklearn import preprocessing\n",
    "import pandas as pd\n",
    "import numpy as np\n",
    "import scipy\n",
    "import matplotlib.pyplot as plt\n",
    "import seaborn as sns\n",
    "\n",
    "from scipy import stats\n",
    "from sklearn.preprocessing import StandardScaler\n",
    "from sklearn.cluster import KMeans\n",
    "from statsmodels.stats.multicomp import pairwise_tukeyhsd\n",
    "from mpl_toolkits.mplot3d import Axes3D\n"
   ]
  },
  {
   "cell_type": "code",
   "execution_count": null,
   "id": "9c8cc30d-c67a-4621-9866-1f6d7c24e493",
   "metadata": {},
   "outputs": [],
   "source": [
    "df = pd.read_excel(\"Acceso Internet Fijo Colombia.xlsx\"\n",
    "                )"
   ]
  },
  {
   "cell_type": "code",
   "execution_count": null,
   "id": "b7a1f843-d90b-49eb-8e86-2bf5d4b0f89c",
   "metadata": {
    "scrolled": true
   },
   "outputs": [],
   "source": [
    "df"
   ]
  },
  {
   "cell_type": "code",
   "execution_count": null,
   "id": "f2fe0dd3-cf29-4aa7-9bdb-10a09880570a",
   "metadata": {
    "scrolled": true
   },
   "outputs": [],
   "source": [
    "# Informacion de los datos\n",
    "df.info()"
   ]
  },
  {
   "cell_type": "code",
   "execution_count": null,
   "id": "f49cdc14-1075-49c6-812f-49d1dbd76e21",
   "metadata": {},
   "outputs": [],
   "source": [
    "# Resumen estadistico\n",
    "df.describe()"
   ]
  },
  {
   "cell_type": "code",
   "execution_count": null,
   "id": "ef22b27e-2c96-486b-bab6-791e8056b1c3",
   "metadata": {},
   "outputs": [],
   "source": [
    "##### Preparar datos por año\n",
    "per1 = df[df['AÑO'] == 2016]['INDICE']\n",
    "per2 = df[df['AÑO'] == 2017]['INDICE']\n",
    "per3 = df[df['AÑO'] == 2018]['INDICE']\n",
    "per4 = df[df['AÑO'] == 2019]['INDICE']\n",
    "per5 = df[df['AÑO'] == 2020]['INDICE']\n",
    "per6 = df[df['AÑO'] == 2021]['INDICE']\n",
    "per7 = df[df['AÑO'] == 2022]['INDICE']\n",
    "\n",
    "\n",
    "# Prueba por periodos con ANOVA\n",
    "f_statistic, p_value = stats.f_oneway(per1, per2, per3, per4, per5, per6, per7)\n",
    "\n",
    "\n",
    "# Interpretar resultados\n",
    "print(f'F-statistic: {f_statistic}')\n",
    "print(f'p-value: {p_value}')\n",
    "\n"
   ]
  },
  {
   "cell_type": "markdown",
   "id": "62c98268-22e3-4489-a6d5-ba99573bfe29",
   "metadata": {},
   "source": [
    "Con un p-valor muy bajo (4.37e-05 < 0.05), hay diferencias estadísticamente significativas en los índices de penetración de internet entre los años analizados entre 2016 y 2023.\n",
    "Esto sugiere que el acceso a internet fijo ha cambiado significativamente año tras año, indicando una evolución temporal importante en el acceso a internet fijo en Colombia.\n",
    "Para identificar específicamente qué años difieren entre sí, sería útil realizar una prueba post-hoc como Tukey HSD."
   ]
  },
  {
   "cell_type": "code",
   "execution_count": null,
   "id": "3087a126-8e23-416f-9d83-7ab6474c572e",
   "metadata": {},
   "outputs": [],
   "source": [
    "#Filtrar dataframe para solo mostrar 2016-2023 ya que 2015 solo tiene datos para un trimestre\n",
    "df_filtrado = df[df[\"AÑO\"] >=2016]\n",
    "\n",
    "# Realizar prueba Tukey\n",
    "\n",
    "col = df_filtrado[\"INDICE\"]\n",
    "grupos = df_filtrado[\"AÑO\"]\n",
    "\n",
    "tukey = pairwise_tukeyhsd(col, grupos)\n",
    "print(tukey)"
   ]
  },
  {
   "cell_type": "markdown",
   "id": "1f4e17a6-4bfa-4c46-8b01-27649c8f0dfa",
   "metadata": {},
   "source": [
    "Esto indica un incremento significativo en la penetración de internet entre 2016-2023, con los cambios más notables ocurriendo después de 2021. Los años consecutivos no muestran diferencias significativas, sugiriendo un crecimiento gradual. Dado que la pandemia por COVID-19 empezó en 2021, forzó a que las poblaciones del país se digitalizaran para poder acceder a diversos servicios como la educación, las tiendas en linea o las redes sociales. La emergencia pudo servir como posible impulsor de los cambios positivos en la penetración del servicio de internet fijo en los hogares de Colombia apartir del 2021."
   ]
  },
  {
   "cell_type": "code",
   "execution_count": null,
   "id": "a38d5b3f-12d5-4d77-a065-ab2833b05243",
   "metadata": {},
   "outputs": [],
   "source": [
    "###Clustering con KMeans\n",
    "\n",
    "# 1. Preparar los datos\n",
    "# Filtrar solo datos de 2023 y últimos registros por departamento\n",
    "df_2023 = df[df['AÑO'] == 2023].sort_values('TRIMESTRE', ascending=False)\n",
    "df_latest = df_2023.drop_duplicates('DEPARTAMENTO')\n",
    "\n",
    "# Seleccionar variables para clustering y escalar\n",
    "X = df_latest[['No. ACCESOS FIJOS A INTERNET', 'INDICE']]\n",
    "scaler = StandardScaler()\n",
    "X_scaled = scaler.fit_transform(X)"
   ]
  },
  {
   "cell_type": "code",
   "execution_count": null,
   "id": "244a3d98-35b2-4fee-8418-26d32d4ccc52",
   "metadata": {},
   "outputs": [],
   "source": [
    "# 3. Encontrar número óptimo de clusters con método del codo\n",
    "inertias = []\n",
    "K = range(1, 10)\n",
    "\n",
    "for k in K:\n",
    "    kmeans = KMeans(n_clusters=k, random_state=42)\n",
    "    kmeans.fit(X_scaled)\n",
    "    inertias.append(kmeans.inertia_)\n",
    "\n",
    "# Visualizar el método del codo\n",
    "plt.figure(figsize=(10, 6))\n",
    "plt.plot(K, inertias, 'bx-')\n",
    "plt.xlabel('k')\n",
    "plt.ylabel('Inercia')\n",
    "plt.title('Método del Codo')\n",
    "plt.show()"
   ]
  },
  {
   "cell_type": "code",
   "execution_count": null,
   "id": "ca6a627a-6311-42f6-95ea-d17666e2286e",
   "metadata": {
    "scrolled": true
   },
   "outputs": [],
   "source": [
    "# 1. Preparar los datos para clustering\n",
    "X = df_latest[['INDICE', 'No. ACCESOS FIJOS A INTERNET']]\n",
    "scaler = StandardScaler()\n",
    "X_scaled = scaler.fit_transform(X)\n",
    "\n",
    "# 2. Aplicar K-means\n",
    "n_clusters = 3\n",
    "kmeans = KMeans(n_clusters=n_clusters, random_state=42)\n",
    "df_latest['Cluster'] = kmeans.fit_predict(X_scaled)\n",
    "\n",
    "# 3. Configurar el estilo\n",
    "sns.set_style(\"whitegrid\")\n",
    "sns.set_context(\"talk\")\n",
    "\n",
    "# 4. Crear la visualización\n",
    "plt.figure(figsize=(20, 12), dpi=300)\n",
    "\n",
    "# Definir colores\n",
    "colors = ['#00B4D8', '#0077B6', '#ffb300']\n",
    "\n",
    "# Crear el scatter plot\n",
    "scatter = plt.scatter(df_latest['INDICE'], \n",
    "                     df_latest['No. ACCESOS FIJOS A INTERNET'],\n",
    "                     c=[colors[i] for i in df_latest['Cluster']],\n",
    "                     s=700,\n",
    "                     alpha=0.7,\n",
    "                     edgecolor='white',\n",
    "                     linewidth=2)\n",
    "\n",
    "# Añadir etiquetas\n",
    "for i, txt in enumerate(df_latest['DEPARTAMENTO']):\n",
    "    plt.annotate(txt, \n",
    "                (df_latest['INDICE'].iloc[i], \n",
    "                 df_latest['No. ACCESOS FIJOS A INTERNET'].iloc[i]),\n",
    "                fontsize=12,\n",
    "                fontweight='bold',\n",
    "                xytext=(5, 5),\n",
    "                textcoords='offset points',\n",
    "                bbox=dict(facecolor='white',\n",
    "                         alpha=0.7,\n",
    "                         edgecolor='none',\n",
    "                         pad=1))\n",
    "\n",
    "# Configurar ejes y título\n",
    "plt.xlabel('Índice de Acceso', fontsize=18, fontweight='bold', labelpad=15)\n",
    "plt.ylabel('Número de Accesos Fijos', fontsize=18, fontweight='bold', labelpad=15)\n",
    "plt.title('Clusters de Departamentos por Acceso a Internet', \n",
    "         fontsize=16, \n",
    "         fontweight='bold', \n",
    "         pad=20)\n",
    "\n",
    "# Configurar ticks\n",
    "plt.xticks(fontsize=12)\n",
    "plt.yticks(fontsize=12)\n",
    "\n",
    "# Crear leyenda\n",
    "legend_elements = []\n",
    "for i in range(n_clusters):\n",
    "    legend_elements.append(plt.scatter([], [], \n",
    "                                     c=colors[i], \n",
    "                                     s=200,\n",
    "                                     label=f'Cluster {i+1}',\n",
    "                                     alpha=0.7))\n",
    "\n",
    "plt.legend(handles=legend_elements,\n",
    "          fontsize=18,\n",
    "          title='Clusters',\n",
    "          title_fontsize=14,\n",
    "          bbox_to_anchor=(1.15, 1))\n",
    "\n",
    "# Ajustar márgenes y límites\n",
    "plt.tight_layout()\n",
    "x_min, x_max = plt.xlim()\n",
    "y_min, y_max = plt.ylim()\n",
    "plt.xlim(x_min - (x_max - x_min)*0.1, x_max + (x_max - x_min)*0.1)\n",
    "plt.ylim(y_min - (y_max - y_min)*0.1, y_max + (y_max - y_min)*0.1)\n",
    "\n",
    "# Guardar y mostrar\n",
    "plt.savefig('clusters_analysis.png', \n",
    "            dpi=500, \n",
    "            bbox_inches='tight',\n",
    "            facecolor='white',\n",
    "            edgecolor='none')\n",
    "\n",
    "plt.show()"
   ]
  },
  {
   "cell_type": "code",
   "execution_count": null,
   "id": "a18b0855-17e5-406f-b431-b9ad12e092bd",
   "metadata": {},
   "outputs": [],
   "source": [
    "print(\"\\nDETALLE DE DEPARTAMENTOS POR CLUSTER:\\n\")\n",
    "\n",
    "for cluster in sorted(df_latest['Cluster'].unique()):\n",
    "    cluster_data = df_latest[df_latest['Cluster'] == cluster]\n",
    "    \n",
    "    print(f\"\\nCLUSTER {cluster + 1}\")\n",
    "    print(\"=\" * 50)\n",
    "    print(f\"Número de departamentos: {len(cluster_data)}\")\n",
    "    print(f\"Índice promedio: {cluster_data['INDICE'].mean():.2f}%\")\n",
    "    print(f\"Accesos promedio: {cluster_data['No. ACCESOS FIJOS A INTERNET'].mean():,.0f}\")\n",
    "    print(\"\\nDepartamentos:\")\n",
    "    \n",
    "    # Mostrar cada departamento con sus métricas\n",
    "    for _, dept in cluster_data.iterrows():\n",
    "        print(f\"- {dept['DEPARTAMENTO']:<30} \"\n",
    "              f\"(Índice: {dept['INDICE']:>6.2f}%, \"\n",
    "              f\"Accesos: {dept['No. ACCESOS FIJOS A INTERNET']:,})\")\n",
    "    print(\"\\n\" + \"-\" * 50)\n",
    "\n",
    "# Resumen estadístico\n",
    "print(\"\\nRESUMEN ESTADÍSTICO POR CLUSTER:\")\n",
    "summary_stats = df_latest.groupby('Cluster').agg({\n",
    "    'INDICE': ['mean', 'min', 'max'],\n",
    "    'No. ACCESOS FIJOS A INTERNET': ['mean', 'min', 'max']\n",
    "}).round(2)\n",
    "\n",
    "print(\"\\nEstadísticas de Índice de Penetración:\")\n",
    "print(summary_stats['INDICE'])\n",
    "print(\"\\nEstadísticas de Número de Accesos:\")\n",
    "print(summary_stats['No. ACCESOS FIJOS A INTERNET'])"
   ]
  }
 ],
 "metadata": {
  "kernelspec": {
   "display_name": "Python 3 (ipykernel)",
   "language": "python",
   "name": "python3"
  },
  "language_info": {
   "codemirror_mode": {
    "name": "ipython",
    "version": 3
   },
   "file_extension": ".py",
   "mimetype": "text/x-python",
   "name": "python",
   "nbconvert_exporter": "python",
   "pygments_lexer": "ipython3",
   "version": "3.12.7"
  }
 },
 "nbformat": 4,
 "nbformat_minor": 5
}
